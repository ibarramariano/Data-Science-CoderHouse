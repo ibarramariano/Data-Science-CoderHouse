{
 "cells": [
  {
   "cell_type": "markdown",
   "metadata": {
    "id": "ylrkAZ55mvNp"
   },
   "source": [
    "# Consigna: Implementar al menos uno de los algoritmos de clasificación vistos en la sesión de hoy con el dataset propuesto para el proyecto final del curso."
   ]
  },
  {
   "cell_type": "markdown",
   "metadata": {
    "id": "zDai0Vgmnk8J"
   },
   "source": [
    "**1) En primer lugar, importamos las librerías a utilizar:**"
   ]
  },
  {
   "cell_type": "code",
   "execution_count": 2,
   "metadata": {
    "executionInfo": {
     "elapsed": 443,
     "status": "ok",
     "timestamp": 1656636220363,
     "user": {
      "displayName": "Nicolás Marquez",
      "userId": "08923445738556148719"
     },
     "user_tz": 180
    },
    "id": "iq7siZZDnpW_"
   },
   "outputs": [],
   "source": [
    "import urllib.request\n",
    "import pandas as pd\n",
    "from sklearn.model_selection import train_test_split\n",
    "from sklearn.ensemble import RandomForestClassifier\n",
    "from sklearn.tree import DecisionTreeClassifier\n",
    "from sklearn.linear_model import LogisticRegression\n",
    "from sklearn.metrics import confusion_matrix\n",
    "import matplotlib.pyplot as plt\n",
    "from sklearn import tree\n",
    "#from sklearn.inspection import DecisionBoundaryDisplay\n",
    "import numpy as np"
   ]
  },
  {
   "cell_type": "markdown",
   "metadata": {
    "id": "DVjK30_tn5QY"
   },
   "source": [
    "**2) A continuación leemos el dataframe final , resultante del análisis y tratamiento de la 1° entrega del Proyecto Final:**"
   ]
  },
  {
   "cell_type": "code",
   "execution_count": 3,
   "metadata": {
    "colab": {
     "base_uri": "https://localhost:8080/",
     "height": 505
    },
    "executionInfo": {
     "elapsed": 15,
     "status": "ok",
     "timestamp": 1656636220873,
     "user": {
      "displayName": "Nicolás Marquez",
      "userId": "08923445738556148719"
     },
     "user_tz": 180
    },
    "id": "Vb2-ZmLLoEQh",
    "outputId": "a11731fb-f334-4889-99a0-9f6bdbe0b71e"
   },
   "outputs": [
    {
     "data": {
      "text/html": [
       "<div>\n",
       "<style scoped>\n",
       "    .dataframe tbody tr th:only-of-type {\n",
       "        vertical-align: middle;\n",
       "    }\n",
       "\n",
       "    .dataframe tbody tr th {\n",
       "        vertical-align: top;\n",
       "    }\n",
       "\n",
       "    .dataframe thead th {\n",
       "        text-align: right;\n",
       "    }\n",
       "</style>\n",
       "<table border=\"1\" class=\"dataframe\">\n",
       "  <thead>\n",
       "    <tr style=\"text-align: right;\">\n",
       "      <th></th>\n",
       "      <th>Unnamed: 0</th>\n",
       "      <th>edad</th>\n",
       "      <th>dolor_de_pecho</th>\n",
       "      <th>presion_en_reposo</th>\n",
       "      <th>colesterol_mg_dl</th>\n",
       "      <th>glucemia_en_ayunas</th>\n",
       "      <th>resultados_electrocardiograficos_en_reposo</th>\n",
       "      <th>frecuencia_cardiaca_maxima_alcanzada</th>\n",
       "      <th>depresion_st_ejercicio_segun_reposo</th>\n",
       "      <th>maxima_pendiente_st_ejercicio</th>\n",
       "      <th>vasos_principales_coloreados</th>\n",
       "      <th>talasemia</th>\n",
       "      <th>enfermo_cardiaco</th>\n",
       "      <th>sexo</th>\n",
       "      <th>angina_por_ejercicio</th>\n",
       "    </tr>\n",
       "  </thead>\n",
       "  <tbody>\n",
       "    <tr>\n",
       "      <th>0</th>\n",
       "      <td>0</td>\n",
       "      <td>52</td>\n",
       "      <td>3</td>\n",
       "      <td>125</td>\n",
       "      <td>212</td>\n",
       "      <td>0</td>\n",
       "      <td>2</td>\n",
       "      <td>168</td>\n",
       "      <td>1.0</td>\n",
       "      <td>0</td>\n",
       "      <td>2</td>\n",
       "      <td>2</td>\n",
       "      <td>0</td>\n",
       "      <td>1</td>\n",
       "      <td>1</td>\n",
       "    </tr>\n",
       "    <tr>\n",
       "      <th>1</th>\n",
       "      <td>1</td>\n",
       "      <td>53</td>\n",
       "      <td>3</td>\n",
       "      <td>140</td>\n",
       "      <td>203</td>\n",
       "      <td>1</td>\n",
       "      <td>1</td>\n",
       "      <td>155</td>\n",
       "      <td>3.1</td>\n",
       "      <td>2</td>\n",
       "      <td>0</td>\n",
       "      <td>2</td>\n",
       "      <td>0</td>\n",
       "      <td>1</td>\n",
       "      <td>0</td>\n",
       "    </tr>\n",
       "    <tr>\n",
       "      <th>2</th>\n",
       "      <td>2</td>\n",
       "      <td>70</td>\n",
       "      <td>3</td>\n",
       "      <td>145</td>\n",
       "      <td>174</td>\n",
       "      <td>0</td>\n",
       "      <td>2</td>\n",
       "      <td>125</td>\n",
       "      <td>2.6</td>\n",
       "      <td>2</td>\n",
       "      <td>0</td>\n",
       "      <td>2</td>\n",
       "      <td>0</td>\n",
       "      <td>1</td>\n",
       "      <td>0</td>\n",
       "    </tr>\n",
       "    <tr>\n",
       "      <th>3</th>\n",
       "      <td>3</td>\n",
       "      <td>61</td>\n",
       "      <td>3</td>\n",
       "      <td>148</td>\n",
       "      <td>203</td>\n",
       "      <td>0</td>\n",
       "      <td>2</td>\n",
       "      <td>161</td>\n",
       "      <td>0.0</td>\n",
       "      <td>0</td>\n",
       "      <td>1</td>\n",
       "      <td>2</td>\n",
       "      <td>0</td>\n",
       "      <td>1</td>\n",
       "      <td>1</td>\n",
       "    </tr>\n",
       "    <tr>\n",
       "      <th>4</th>\n",
       "      <td>4</td>\n",
       "      <td>62</td>\n",
       "      <td>3</td>\n",
       "      <td>138</td>\n",
       "      <td>294</td>\n",
       "      <td>1</td>\n",
       "      <td>2</td>\n",
       "      <td>106</td>\n",
       "      <td>1.9</td>\n",
       "      <td>1</td>\n",
       "      <td>3</td>\n",
       "      <td>1</td>\n",
       "      <td>0</td>\n",
       "      <td>0</td>\n",
       "      <td>1</td>\n",
       "    </tr>\n",
       "    <tr>\n",
       "      <th>...</th>\n",
       "      <td>...</td>\n",
       "      <td>...</td>\n",
       "      <td>...</td>\n",
       "      <td>...</td>\n",
       "      <td>...</td>\n",
       "      <td>...</td>\n",
       "      <td>...</td>\n",
       "      <td>...</td>\n",
       "      <td>...</td>\n",
       "      <td>...</td>\n",
       "      <td>...</td>\n",
       "      <td>...</td>\n",
       "      <td>...</td>\n",
       "      <td>...</td>\n",
       "      <td>...</td>\n",
       "    </tr>\n",
       "    <tr>\n",
       "      <th>995</th>\n",
       "      <td>1020</td>\n",
       "      <td>59</td>\n",
       "      <td>1</td>\n",
       "      <td>140</td>\n",
       "      <td>221</td>\n",
       "      <td>0</td>\n",
       "      <td>2</td>\n",
       "      <td>164</td>\n",
       "      <td>0.0</td>\n",
       "      <td>0</td>\n",
       "      <td>0</td>\n",
       "      <td>1</td>\n",
       "      <td>1</td>\n",
       "      <td>1</td>\n",
       "      <td>0</td>\n",
       "    </tr>\n",
       "    <tr>\n",
       "      <th>996</th>\n",
       "      <td>1021</td>\n",
       "      <td>60</td>\n",
       "      <td>3</td>\n",
       "      <td>125</td>\n",
       "      <td>258</td>\n",
       "      <td>0</td>\n",
       "      <td>1</td>\n",
       "      <td>141</td>\n",
       "      <td>2.8</td>\n",
       "      <td>1</td>\n",
       "      <td>1</td>\n",
       "      <td>2</td>\n",
       "      <td>0</td>\n",
       "      <td>1</td>\n",
       "      <td>0</td>\n",
       "    </tr>\n",
       "    <tr>\n",
       "      <th>997</th>\n",
       "      <td>1022</td>\n",
       "      <td>47</td>\n",
       "      <td>3</td>\n",
       "      <td>110</td>\n",
       "      <td>275</td>\n",
       "      <td>0</td>\n",
       "      <td>1</td>\n",
       "      <td>118</td>\n",
       "      <td>1.0</td>\n",
       "      <td>1</td>\n",
       "      <td>1</td>\n",
       "      <td>1</td>\n",
       "      <td>0</td>\n",
       "      <td>1</td>\n",
       "      <td>0</td>\n",
       "    </tr>\n",
       "    <tr>\n",
       "      <th>998</th>\n",
       "      <td>1023</td>\n",
       "      <td>50</td>\n",
       "      <td>3</td>\n",
       "      <td>110</td>\n",
       "      <td>254</td>\n",
       "      <td>0</td>\n",
       "      <td>1</td>\n",
       "      <td>159</td>\n",
       "      <td>0.0</td>\n",
       "      <td>0</td>\n",
       "      <td>0</td>\n",
       "      <td>1</td>\n",
       "      <td>1</td>\n",
       "      <td>0</td>\n",
       "      <td>1</td>\n",
       "    </tr>\n",
       "    <tr>\n",
       "      <th>999</th>\n",
       "      <td>1024</td>\n",
       "      <td>54</td>\n",
       "      <td>3</td>\n",
       "      <td>120</td>\n",
       "      <td>188</td>\n",
       "      <td>0</td>\n",
       "      <td>2</td>\n",
       "      <td>113</td>\n",
       "      <td>1.4</td>\n",
       "      <td>1</td>\n",
       "      <td>1</td>\n",
       "      <td>2</td>\n",
       "      <td>0</td>\n",
       "      <td>1</td>\n",
       "      <td>1</td>\n",
       "    </tr>\n",
       "  </tbody>\n",
       "</table>\n",
       "<p>1000 rows × 15 columns</p>\n",
       "</div>"
      ],
      "text/plain": [
       "     Unnamed: 0  edad  dolor_de_pecho  presion_en_reposo  colesterol_mg_dl  \\\n",
       "0             0    52               3                125               212   \n",
       "1             1    53               3                140               203   \n",
       "2             2    70               3                145               174   \n",
       "3             3    61               3                148               203   \n",
       "4             4    62               3                138               294   \n",
       "..          ...   ...             ...                ...               ...   \n",
       "995        1020    59               1                140               221   \n",
       "996        1021    60               3                125               258   \n",
       "997        1022    47               3                110               275   \n",
       "998        1023    50               3                110               254   \n",
       "999        1024    54               3                120               188   \n",
       "\n",
       "     glucemia_en_ayunas  resultados_electrocardiograficos_en_reposo  \\\n",
       "0                     0                                           2   \n",
       "1                     1                                           1   \n",
       "2                     0                                           2   \n",
       "3                     0                                           2   \n",
       "4                     1                                           2   \n",
       "..                  ...                                         ...   \n",
       "995                   0                                           2   \n",
       "996                   0                                           1   \n",
       "997                   0                                           1   \n",
       "998                   0                                           1   \n",
       "999                   0                                           2   \n",
       "\n",
       "     frecuencia_cardiaca_maxima_alcanzada  \\\n",
       "0                                     168   \n",
       "1                                     155   \n",
       "2                                     125   \n",
       "3                                     161   \n",
       "4                                     106   \n",
       "..                                    ...   \n",
       "995                                   164   \n",
       "996                                   141   \n",
       "997                                   118   \n",
       "998                                   159   \n",
       "999                                   113   \n",
       "\n",
       "     depresion_st_ejercicio_segun_reposo  maxima_pendiente_st_ejercicio  \\\n",
       "0                                    1.0                              0   \n",
       "1                                    3.1                              2   \n",
       "2                                    2.6                              2   \n",
       "3                                    0.0                              0   \n",
       "4                                    1.9                              1   \n",
       "..                                   ...                            ...   \n",
       "995                                  0.0                              0   \n",
       "996                                  2.8                              1   \n",
       "997                                  1.0                              1   \n",
       "998                                  0.0                              0   \n",
       "999                                  1.4                              1   \n",
       "\n",
       "     vasos_principales_coloreados  talasemia  enfermo_cardiaco  sexo  \\\n",
       "0                               2          2                 0     1   \n",
       "1                               0          2                 0     1   \n",
       "2                               0          2                 0     1   \n",
       "3                               1          2                 0     1   \n",
       "4                               3          1                 0     0   \n",
       "..                            ...        ...               ...   ...   \n",
       "995                             0          1                 1     1   \n",
       "996                             1          2                 0     1   \n",
       "997                             1          1                 0     1   \n",
       "998                             0          1                 1     0   \n",
       "999                             1          2                 0     1   \n",
       "\n",
       "     angina_por_ejercicio  \n",
       "0                       1  \n",
       "1                       0  \n",
       "2                       0  \n",
       "3                       1  \n",
       "4                       1  \n",
       "..                    ...  \n",
       "995                     0  \n",
       "996                     0  \n",
       "997                     0  \n",
       "998                     1  \n",
       "999                     1  \n",
       "\n",
       "[1000 rows x 15 columns]"
      ]
     },
     "execution_count": 3,
     "metadata": {},
     "output_type": "execute_result"
    }
   ],
   "source": [
    "df_final_heart_disease = pd.read_csv('data_heart_final.csv')\n",
    "df_final_heart_disease"
   ]
  },
  {
   "cell_type": "markdown",
   "metadata": {
    "id": "Kti9OGploNs7"
   },
   "source": [
    "**3) A continuación visualizamos información útil del mismo:**"
   ]
  },
  {
   "cell_type": "code",
   "execution_count": 4,
   "metadata": {
    "colab": {
     "base_uri": "https://localhost:8080/"
    },
    "executionInfo": {
     "elapsed": 14,
     "status": "ok",
     "timestamp": 1656636220874,
     "user": {
      "displayName": "Nicolás Marquez",
      "userId": "08923445738556148719"
     },
     "user_tz": 180
    },
    "id": "9jNMQhaSoT1R",
    "outputId": "cee16c5d-135e-43fc-c533-f3fc26b44208"
   },
   "outputs": [
    {
     "data": {
      "text/plain": [
       "(1000, 15)"
      ]
     },
     "execution_count": 4,
     "metadata": {},
     "output_type": "execute_result"
    }
   ],
   "source": [
    "df_final_heart_disease.shape"
   ]
  },
  {
   "cell_type": "code",
   "execution_count": 5,
   "metadata": {
    "colab": {
     "base_uri": "https://localhost:8080/"
    },
    "executionInfo": {
     "elapsed": 12,
     "status": "ok",
     "timestamp": 1656636220875,
     "user": {
      "displayName": "Nicolás Marquez",
      "userId": "08923445738556148719"
     },
     "user_tz": 180
    },
    "id": "sBLNVqW7oYA4",
    "outputId": "f15bb24b-15c3-44f5-d137-99852bfbd884"
   },
   "outputs": [
    {
     "name": "stdout",
     "output_type": "stream",
     "text": [
      "<class 'pandas.core.frame.DataFrame'>\n",
      "RangeIndex: 1000 entries, 0 to 999\n",
      "Data columns (total 15 columns):\n",
      " #   Column                                      Non-Null Count  Dtype  \n",
      "---  ------                                      --------------  -----  \n",
      " 0   Unnamed: 0                                  1000 non-null   int64  \n",
      " 1   edad                                        1000 non-null   int64  \n",
      " 2   dolor_de_pecho                              1000 non-null   int64  \n",
      " 3   presion_en_reposo                           1000 non-null   int64  \n",
      " 4   colesterol_mg_dl                            1000 non-null   int64  \n",
      " 5   glucemia_en_ayunas                          1000 non-null   int64  \n",
      " 6   resultados_electrocardiograficos_en_reposo  1000 non-null   int64  \n",
      " 7   frecuencia_cardiaca_maxima_alcanzada        1000 non-null   int64  \n",
      " 8   depresion_st_ejercicio_segun_reposo         1000 non-null   float64\n",
      " 9   maxima_pendiente_st_ejercicio               1000 non-null   int64  \n",
      " 10  vasos_principales_coloreados                1000 non-null   int64  \n",
      " 11  talasemia                                   1000 non-null   int64  \n",
      " 12  enfermo_cardiaco                            1000 non-null   int64  \n",
      " 13  sexo                                        1000 non-null   int64  \n",
      " 14  angina_por_ejercicio                        1000 non-null   int64  \n",
      "dtypes: float64(1), int64(14)\n",
      "memory usage: 117.3 KB\n"
     ]
    }
   ],
   "source": [
    "df_final_heart_disease.info()"
   ]
  },
  {
   "cell_type": "markdown",
   "metadata": {
    "id": "1wA26AAIofkD"
   },
   "source": [
    "**4) Insights:**\\\n",
    "**a) El dataset se compone de 14 columnas de las cuales, una de ellas es la que usaremos para predecir el target.**\\\n",
    "**b) \"enfermo_cardiaco\" es la variable a predecir. Todas las variables son numéricas, ya sea enteras o reales.**"
   ]
  },
  {
   "cell_type": "markdown",
   "metadata": {
    "id": "rLrFpop6qdKj"
   },
   "source": [
    "**5) Entonces, separamos el dataframe en las variables X e y:**"
   ]
  },
  {
   "cell_type": "code",
   "execution_count": 6,
   "metadata": {
    "executionInfo": {
     "elapsed": 12,
     "status": "ok",
     "timestamp": 1656636220877,
     "user": {
      "displayName": "Nicolás Marquez",
      "userId": "08923445738556148719"
     },
     "user_tz": 180
    },
    "id": "7U4BWwxSrp4D"
   },
   "outputs": [],
   "source": [
    "X = df_final_heart_disease.drop([\"enfermo_cardiaco\"], axis=1)\n",
    "y = df_final_heart_disease[\"enfermo_cardiaco\"]"
   ]
  },
  {
   "cell_type": "markdown",
   "metadata": {
    "id": "XdEOXEjr6qZ7"
   },
   "source": [
    "**6) Ahora , separamos en Train y Test:**"
   ]
  },
  {
   "cell_type": "code",
   "execution_count": 7,
   "metadata": {
    "executionInfo": {
     "elapsed": 12,
     "status": "ok",
     "timestamp": 1656636220878,
     "user": {
      "displayName": "Nicolás Marquez",
      "userId": "08923445738556148719"
     },
     "user_tz": 180
    },
    "id": "oRLIIV2U6tYj"
   },
   "outputs": [],
   "source": [
    "X_train, X_test, y_train, y_test = train_test_split(X, y, test_size=0.30, random_state=42)"
   ]
  },
  {
   "cell_type": "markdown",
   "metadata": {
    "id": "UdG_1VyT65Uc"
   },
   "source": [
    "**7) A continuación, creamos un árbol de decisión sencillo y lo fiteamos:**"
   ]
  },
  {
   "cell_type": "code",
   "execution_count": 8,
   "metadata": {
    "colab": {
     "base_uri": "https://localhost:8080/"
    },
    "executionInfo": {
     "elapsed": 13,
     "status": "ok",
     "timestamp": 1656636220879,
     "user": {
      "displayName": "Nicolás Marquez",
      "userId": "08923445738556148719"
     },
     "user_tz": 180
    },
    "id": "3h2hj4DR68vT",
    "outputId": "7fdb61cb-c448-4ead-f3f0-6698ffbd8639"
   },
   "outputs": [
    {
     "data": {
      "text/html": [
       "<style>#sk-container-id-1 {color: black;background-color: white;}#sk-container-id-1 pre{padding: 0;}#sk-container-id-1 div.sk-toggleable {background-color: white;}#sk-container-id-1 label.sk-toggleable__label {cursor: pointer;display: block;width: 100%;margin-bottom: 0;padding: 0.3em;box-sizing: border-box;text-align: center;}#sk-container-id-1 label.sk-toggleable__label-arrow:before {content: \"▸\";float: left;margin-right: 0.25em;color: #696969;}#sk-container-id-1 label.sk-toggleable__label-arrow:hover:before {color: black;}#sk-container-id-1 div.sk-estimator:hover label.sk-toggleable__label-arrow:before {color: black;}#sk-container-id-1 div.sk-toggleable__content {max-height: 0;max-width: 0;overflow: hidden;text-align: left;background-color: #f0f8ff;}#sk-container-id-1 div.sk-toggleable__content pre {margin: 0.2em;color: black;border-radius: 0.25em;background-color: #f0f8ff;}#sk-container-id-1 input.sk-toggleable__control:checked~div.sk-toggleable__content {max-height: 200px;max-width: 100%;overflow: auto;}#sk-container-id-1 input.sk-toggleable__control:checked~label.sk-toggleable__label-arrow:before {content: \"▾\";}#sk-container-id-1 div.sk-estimator input.sk-toggleable__control:checked~label.sk-toggleable__label {background-color: #d4ebff;}#sk-container-id-1 div.sk-label input.sk-toggleable__control:checked~label.sk-toggleable__label {background-color: #d4ebff;}#sk-container-id-1 input.sk-hidden--visually {border: 0;clip: rect(1px 1px 1px 1px);clip: rect(1px, 1px, 1px, 1px);height: 1px;margin: -1px;overflow: hidden;padding: 0;position: absolute;width: 1px;}#sk-container-id-1 div.sk-estimator {font-family: monospace;background-color: #f0f8ff;border: 1px dotted black;border-radius: 0.25em;box-sizing: border-box;margin-bottom: 0.5em;}#sk-container-id-1 div.sk-estimator:hover {background-color: #d4ebff;}#sk-container-id-1 div.sk-parallel-item::after {content: \"\";width: 100%;border-bottom: 1px solid gray;flex-grow: 1;}#sk-container-id-1 div.sk-label:hover label.sk-toggleable__label {background-color: #d4ebff;}#sk-container-id-1 div.sk-serial::before {content: \"\";position: absolute;border-left: 1px solid gray;box-sizing: border-box;top: 0;bottom: 0;left: 50%;z-index: 0;}#sk-container-id-1 div.sk-serial {display: flex;flex-direction: column;align-items: center;background-color: white;padding-right: 0.2em;padding-left: 0.2em;position: relative;}#sk-container-id-1 div.sk-item {position: relative;z-index: 1;}#sk-container-id-1 div.sk-parallel {display: flex;align-items: stretch;justify-content: center;background-color: white;position: relative;}#sk-container-id-1 div.sk-item::before, #sk-container-id-1 div.sk-parallel-item::before {content: \"\";position: absolute;border-left: 1px solid gray;box-sizing: border-box;top: 0;bottom: 0;left: 50%;z-index: -1;}#sk-container-id-1 div.sk-parallel-item {display: flex;flex-direction: column;z-index: 1;position: relative;background-color: white;}#sk-container-id-1 div.sk-parallel-item:first-child::after {align-self: flex-end;width: 50%;}#sk-container-id-1 div.sk-parallel-item:last-child::after {align-self: flex-start;width: 50%;}#sk-container-id-1 div.sk-parallel-item:only-child::after {width: 0;}#sk-container-id-1 div.sk-dashed-wrapped {border: 1px dashed gray;margin: 0 0.4em 0.5em 0.4em;box-sizing: border-box;padding-bottom: 0.4em;background-color: white;}#sk-container-id-1 div.sk-label label {font-family: monospace;font-weight: bold;display: inline-block;line-height: 1.2em;}#sk-container-id-1 div.sk-label-container {text-align: center;}#sk-container-id-1 div.sk-container {/* jupyter's `normalize.less` sets `[hidden] { display: none; }` but bootstrap.min.css set `[hidden] { display: none !important; }` so we also need the `!important` here to be able to override the default hidden behavior on the sphinx rendered scikit-learn.org. See: https://github.com/scikit-learn/scikit-learn/issues/21755 */display: inline-block !important;position: relative;}#sk-container-id-1 div.sk-text-repr-fallback {display: none;}</style><div id=\"sk-container-id-1\" class=\"sk-top-container\"><div class=\"sk-text-repr-fallback\"><pre>DecisionTreeClassifier(random_state=42)</pre><b>In a Jupyter environment, please rerun this cell to show the HTML representation or trust the notebook. <br />On GitHub, the HTML representation is unable to render, please try loading this page with nbviewer.org.</b></div><div class=\"sk-container\" hidden><div class=\"sk-item\"><div class=\"sk-estimator sk-toggleable\"><input class=\"sk-toggleable__control sk-hidden--visually\" id=\"sk-estimator-id-1\" type=\"checkbox\" checked><label for=\"sk-estimator-id-1\" class=\"sk-toggleable__label sk-toggleable__label-arrow\">DecisionTreeClassifier</label><div class=\"sk-toggleable__content\"><pre>DecisionTreeClassifier(random_state=42)</pre></div></div></div></div></div>"
      ],
      "text/plain": [
       "DecisionTreeClassifier(random_state=42)"
      ]
     },
     "execution_count": 8,
     "metadata": {},
     "output_type": "execute_result"
    }
   ],
   "source": [
    "arbol_de_decision = DecisionTreeClassifier(random_state = 42)\n",
    "#max_depth=2, \n",
    "#tree = DecisionTreeClassifier(random_state=11)\n",
    "arbol_de_decision.fit(X_train, y_train)"
   ]
  },
  {
   "cell_type": "markdown",
   "metadata": {
    "id": "LXJlwhVw7C9s"
   },
   "source": [
    "**8) Ahora realizamos la predicción para Test y Train:**\n"
   ]
  },
  {
   "cell_type": "code",
   "execution_count": 9,
   "metadata": {
    "executionInfo": {
     "elapsed": 539,
     "status": "ok",
     "timestamp": 1656636221407,
     "user": {
      "displayName": "Nicolás Marquez",
      "userId": "08923445738556148719"
     },
     "user_tz": 180
    },
    "id": "oVdqKI6i7XQi"
   },
   "outputs": [],
   "source": [
    "y_train_pred = arbol_de_decision.predict(X_train)\n",
    "y_test_pred = arbol_de_decision.predict(X_test)"
   ]
  },
  {
   "cell_type": "markdown",
   "metadata": {
    "id": "1CybRPER7Z-J"
   },
   "source": [
    "**9) En este paso, calculamos el accuracy en Test:**"
   ]
  },
  {
   "cell_type": "code",
   "execution_count": 10,
   "metadata": {
    "colab": {
     "base_uri": "https://localhost:8080/"
    },
    "executionInfo": {
     "elapsed": 9,
     "status": "ok",
     "timestamp": 1656636221407,
     "user": {
      "displayName": "Nicolás Marquez",
      "userId": "08923445738556148719"
     },
     "user_tz": 180
    },
    "id": "T3GFfCJ97eGq",
    "outputId": "4e285c5d-a9fe-4b3d-fc40-5116725211bd"
   },
   "outputs": [
    {
     "name": "stdout",
     "output_type": "stream",
     "text": [
      "El % de aciertos sobre el set de entrenamiento: 1.0%\n",
      "El % de aciertos sobre el set de evaluación: 0.98%\n"
     ]
    }
   ],
   "source": [
    "from sklearn.metrics import accuracy_score\n",
    "train_accuracy = accuracy_score(y_train, y_train_pred)\n",
    "test_accuracy = accuracy_score(y_test, y_test_pred)\n",
    "print(f'El % de aciertos sobre el set de entrenamiento: {round(train_accuracy,2)}%')\n",
    "print(f'El % de aciertos sobre el set de evaluación: {round(test_accuracy,2)}%')"
   ]
  },
  {
   "cell_type": "markdown",
   "metadata": {
    "id": "VyO5jdeY7klB"
   },
   "source": [
    "**10) Visualizamos la matriz de confusión:**"
   ]
  },
  {
   "cell_type": "code",
   "execution_count": 11,
   "metadata": {
    "colab": {
     "base_uri": "https://localhost:8080/"
    },
    "executionInfo": {
     "elapsed": 7,
     "status": "ok",
     "timestamp": 1656636221408,
     "user": {
      "displayName": "Nicolás Marquez",
      "userId": "08923445738556148719"
     },
     "user_tz": 180
    },
    "id": "An9vHer_7nbi",
    "outputId": "b314bae9-1f14-4c89-8417-13fde05263f9"
   },
   "outputs": [
    {
     "name": "stdout",
     "output_type": "stream",
     "text": [
      "Matriz de Confusión del árbol de decisión:\n",
      "[[135   3]\n",
      " [  3 159]]\n"
     ]
    }
   ],
   "source": [
    "matriz = confusion_matrix(y_test, y_test_pred)\n",
    "print('Matriz de Confusión del árbol de decisión:')\n",
    "print(matriz)"
   ]
  },
  {
   "cell_type": "markdown",
   "metadata": {
    "id": "AFU6ClIn7_WB"
   },
   "source": [
    "**11) Graficamos el arbol de decisión:**"
   ]
  },
  {
   "cell_type": "code",
   "execution_count": 12,
   "metadata": {
    "colab": {
     "base_uri": "https://localhost:8080/",
     "height": 615
    },
    "executionInfo": {
     "elapsed": 5499,
     "status": "ok",
     "timestamp": 1656636226902,
     "user": {
      "displayName": "Nicolás Marquez",
      "userId": "08923445738556148719"
     },
     "user_tz": 180
    },
    "id": "hq5rq2cK8Dix",
    "outputId": "e3d677a7-e04d-4f70-db86-7416b9c954ce"
   },
   "outputs": [
    {
     "data": {
      "image/png": "[encoded data removed]",
      "text/plain": [
       "<Figure size 1152x720 with 1 Axes>"
      ]
     },
     "metadata": {
      "needs_background": "light"
     },
     "output_type": "display_data"
    }
   ],
   "source": [
    "plt.figure(figsize=(16,10)) \n",
    "tree.plot_tree(arbol_de_decision.fit(X_train,y_train))\n",
    "plt.title(label=\"Árbol de decisión\",\n",
    "           fontsize=40,\n",
    "           color=\"green\")\n",
    "plt.show()"
   ]
  },
  {
   "cell_type": "markdown",
   "metadata": {
    "id": "VWRdKLzZ9w2s"
   },
   "source": [
    "**12) Ahora creamos el modelo Randon Forest:**"
   ]
  },
  {
   "cell_type": "code",
   "execution_count": 13,
   "metadata": {
    "colab": {
     "base_uri": "https://localhost:8080/"
    },
    "executionInfo": {
     "elapsed": 32,
     "status": "ok",
     "timestamp": 1656636226903,
     "user": {
      "displayName": "Nicolás Marquez",
      "userId": "08923445738556148719"
     },
     "user_tz": 180
    },
    "id": "Io2ny7SF92bC",
    "outputId": "303464d4-78c0-4ebc-828c-323e911a8fce"
   },
   "outputs": [
    {
     "data": {
      "text/html": [
       "<style>#sk-container-id-2 {color: black;background-color: white;}#sk-container-id-2 pre{padding: 0;}#sk-container-id-2 div.sk-toggleable {background-color: white;}#sk-container-id-2 label.sk-toggleable__label {cursor: pointer;display: block;width: 100%;margin-bottom: 0;padding: 0.3em;box-sizing: border-box;text-align: center;}#sk-container-id-2 label.sk-toggleable__label-arrow:before {content: \"▸\";float: left;margin-right: 0.25em;color: #696969;}#sk-container-id-2 label.sk-toggleable__label-arrow:hover:before {color: black;}#sk-container-id-2 div.sk-estimator:hover label.sk-toggleable__label-arrow:before {color: black;}#sk-container-id-2 div.sk-toggleable__content {max-height: 0;max-width: 0;overflow: hidden;text-align: left;background-color: #f0f8ff;}#sk-container-id-2 div.sk-toggleable__content pre {margin: 0.2em;color: black;border-radius: 0.25em;background-color: #f0f8ff;}#sk-container-id-2 input.sk-toggleable__control:checked~div.sk-toggleable__content {max-height: 200px;max-width: 100%;overflow: auto;}#sk-container-id-2 input.sk-toggleable__control:checked~label.sk-toggleable__label-arrow:before {content: \"▾\";}#sk-container-id-2 div.sk-estimator input.sk-toggleable__control:checked~label.sk-toggleable__label {background-color: #d4ebff;}#sk-container-id-2 div.sk-label input.sk-toggleable__control:checked~label.sk-toggleable__label {background-color: #d4ebff;}#sk-container-id-2 input.sk-hidden--visually {border: 0;clip: rect(1px 1px 1px 1px);clip: rect(1px, 1px, 1px, 1px);height: 1px;margin: -1px;overflow: hidden;padding: 0;position: absolute;width: 1px;}#sk-container-id-2 div.sk-estimator {font-family: monospace;background-color: #f0f8ff;border: 1px dotted black;border-radius: 0.25em;box-sizing: border-box;margin-bottom: 0.5em;}#sk-container-id-2 div.sk-estimator:hover {background-color: #d4ebff;}#sk-container-id-2 div.sk-parallel-item::after {content: \"\";width: 100%;border-bottom: 1px solid gray;flex-grow: 1;}#sk-container-id-2 div.sk-label:hover label.sk-toggleable__label {background-color: #d4ebff;}#sk-container-id-2 div.sk-serial::before {content: \"\";position: absolute;border-left: 1px solid gray;box-sizing: border-box;top: 0;bottom: 0;left: 50%;z-index: 0;}#sk-container-id-2 div.sk-serial {display: flex;flex-direction: column;align-items: center;background-color: white;padding-right: 0.2em;padding-left: 0.2em;position: relative;}#sk-container-id-2 div.sk-item {position: relative;z-index: 1;}#sk-container-id-2 div.sk-parallel {display: flex;align-items: stretch;justify-content: center;background-color: white;position: relative;}#sk-container-id-2 div.sk-item::before, #sk-container-id-2 div.sk-parallel-item::before {content: \"\";position: absolute;border-left: 1px solid gray;box-sizing: border-box;top: 0;bottom: 0;left: 50%;z-index: -1;}#sk-container-id-2 div.sk-parallel-item {display: flex;flex-direction: column;z-index: 1;position: relative;background-color: white;}#sk-container-id-2 div.sk-parallel-item:first-child::after {align-self: flex-end;width: 50%;}#sk-container-id-2 div.sk-parallel-item:last-child::after {align-self: flex-start;width: 50%;}#sk-container-id-2 div.sk-parallel-item:only-child::after {width: 0;}#sk-container-id-2 div.sk-dashed-wrapped {border: 1px dashed gray;margin: 0 0.4em 0.5em 0.4em;box-sizing: border-box;padding-bottom: 0.4em;background-color: white;}#sk-container-id-2 div.sk-label label {font-family: monospace;font-weight: bold;display: inline-block;line-height: 1.2em;}#sk-container-id-2 div.sk-label-container {text-align: center;}#sk-container-id-2 div.sk-container {/* jupyter's `normalize.less` sets `[hidden] { display: none; }` but bootstrap.min.css set `[hidden] { display: none !important; }` so we also need the `!important` here to be able to override the default hidden behavior on the sphinx rendered scikit-learn.org. See: https://github.com/scikit-learn/scikit-learn/issues/21755 */display: inline-block !important;position: relative;}#sk-container-id-2 div.sk-text-repr-fallback {display: none;}</style><div id=\"sk-container-id-2\" class=\"sk-top-container\"><div class=\"sk-text-repr-fallback\"><pre>RandomForestClassifier(class_weight=&#x27;balanced&#x27;, max_features=&#x27;log2&#x27;,\n",
       "                       n_estimators=200, random_state=11)</pre><b>In a Jupyter environment, please rerun this cell to show the HTML representation or trust the notebook. <br />On GitHub, the HTML representation is unable to render, please try loading this page with nbviewer.org.</b></div><div class=\"sk-container\" hidden><div class=\"sk-item\"><div class=\"sk-estimator sk-toggleable\"><input class=\"sk-toggleable__control sk-hidden--visually\" id=\"sk-estimator-id-2\" type=\"checkbox\" checked><label for=\"sk-estimator-id-2\" class=\"sk-toggleable__label sk-toggleable__label-arrow\">RandomForestClassifier</label><div class=\"sk-toggleable__content\"><pre>RandomForestClassifier(class_weight=&#x27;balanced&#x27;, max_features=&#x27;log2&#x27;,\n",
       "                       n_estimators=200, random_state=11)</pre></div></div></div></div></div>"
      ],
      "text/plain": [
       "RandomForestClassifier(class_weight='balanced', max_features='log2',\n",
       "                       n_estimators=200, random_state=11)"
      ]
     },
     "execution_count": 13,
     "metadata": {},
     "output_type": "execute_result"
    }
   ],
   "source": [
    "model = RandomForestClassifier(random_state=11, n_estimators=200,\n",
    "                               class_weight=\"balanced\", max_features=\"log2\")\n",
    "model.fit(X_train, y_train)"
   ]
  },
  {
   "cell_type": "markdown",
   "metadata": {
    "id": "iT_bZQFo98lD"
   },
   "source": [
    "**13) Predecimos en test y train:**"
   ]
  },
  {
   "cell_type": "code",
   "execution_count": 14,
   "metadata": {
    "executionInfo": {
     "elapsed": 20,
     "status": "ok",
     "timestamp": 1656636226904,
     "user": {
      "displayName": "Nicolás Marquez",
      "userId": "08923445738556148719"
     },
     "user_tz": 180
    },
    "id": "OHRwuYLK-Bd5"
   },
   "outputs": [],
   "source": [
    "y_train_pred_randomF = model.predict(X_train)\n",
    "y_test_pred_randomF = model.predict(X_test)"
   ]
  },
  {
   "cell_type": "markdown",
   "metadata": {
    "id": "xwvoRl1A-WNi"
   },
   "source": [
    "**14) Cálculo de Accuracy para Test y Train:**\n"
   ]
  },
  {
   "cell_type": "code",
   "execution_count": 15,
   "metadata": {
    "colab": {
     "base_uri": "https://localhost:8080/"
    },
    "executionInfo": {
     "elapsed": 19,
     "status": "ok",
     "timestamp": 1656636226904,
     "user": {
      "displayName": "Nicolás Marquez",
      "userId": "08923445738556148719"
     },
     "user_tz": 180
    },
    "id": "5gMwNFQU-fxk",
    "outputId": "0e40f520-2c35-4623-8c67-c823fc9b7a8b"
   },
   "outputs": [
    {
     "name": "stdout",
     "output_type": "stream",
     "text": [
      "El % de aciertos sobre el set de entrenamiento: 1.0%\n",
      "El % de aciertos sobre el set de evaluación: 1.0%\n"
     ]
    }
   ],
   "source": [
    "train_accuracy = accuracy_score(y_train, y_train_pred_randomF)\n",
    "test_accuracy = accuracy_score(y_test, y_test_pred_randomF)\n",
    "print(f'El % de aciertos sobre el set de entrenamiento: {round(train_accuracy,2)}%')\n",
    "print(f'El % de aciertos sobre el set de evaluación: {round(test_accuracy,2)}%')"
   ]
  },
  {
   "cell_type": "markdown",
   "metadata": {
    "id": "A2DO06T--hmR"
   },
   "source": [
    "**15) Calculamos la matriz de confusión:**"
   ]
  },
  {
   "cell_type": "code",
   "execution_count": 16,
   "metadata": {
    "colab": {
     "base_uri": "https://localhost:8080/"
    },
    "executionInfo": {
     "elapsed": 17,
     "status": "ok",
     "timestamp": 1656636226906,
     "user": {
      "displayName": "Nicolás Marquez",
      "userId": "08923445738556148719"
     },
     "user_tz": 180
    },
    "id": "C0Cf7SLL-oBY",
    "outputId": "2432eb1b-53a6-48ca-ef80-bccac3c4d801"
   },
   "outputs": [
    {
     "name": "stdout",
     "output_type": "stream",
     "text": [
      "Matriz de Confusión del random forest:\n",
      "[[135   3]\n",
      " [  3 159]]\n"
     ]
    }
   ],
   "source": [
    "matriz2 = confusion_matrix(y_test, y_test_pred)\n",
    "print('Matriz de Confusión del random forest:')\n",
    "print(matriz2)"
   ]
  },
  {
   "cell_type": "markdown",
   "metadata": {
    "id": "NzBhFkww-rQY"
   },
   "source": [
    "**16) Graficamos el modelo de Random Forest:**"
   ]
  },
  {
   "cell_type": "code",
   "execution_count": 17,
   "metadata": {
    "colab": {
     "base_uri": "https://localhost:8080/",
     "height": 615
    },
    "executionInfo": {
     "elapsed": 5022,
     "status": "ok",
     "timestamp": 1656636231915,
     "user": {
      "displayName": "Nicolás Marquez",
      "userId": "08923445738556148719"
     },
     "user_tz": 180
    },
    "id": "dWcJ6lha-vGh",
    "outputId": "98607571-430d-4d4c-eeaa-a36c0903cb69"
   },
   "outputs": [
    {
     "data": {
      "image/png": "[encoded data removed]",
      "text/plain": [
       "<Figure size 1080x720 with 1 Axes>"
      ]
     },
     "metadata": {
      "needs_background": "light"
     },
     "output_type": "display_data"
    }
   ],
   "source": [
    "fig = plt.figure(figsize=(15, 10))\n",
    "tree.plot_tree(model.estimators_[10])\n",
    "plt.title(label=\"Random Forest\",\n",
    "           fontsize=40,\n",
    "           color=\"green\")\n",
    "plt.show()"
   ]
  },
  {
   "cell_type": "markdown",
   "metadata": {
    "id": "TwJPmCCTAeob"
   },
   "source": [
    "**17) Ahora, trabajaremos con la Regresión logistica. Por ello, graficamos un Scatter plot:**"
   ]
  },
  {
   "cell_type": "code",
   "execution_count": 18,
   "metadata": {
    "colab": {
     "base_uri": "https://localhost:8080/",
     "height": 265
    },
    "executionInfo": {
     "elapsed": 19,
     "status": "ok",
     "timestamp": 1656636231916,
     "user": {
      "displayName": "Nicolás Marquez",
      "userId": "08923445738556148719"
     },
     "user_tz": 180
    },
    "id": "hd0fUUXNBEsh",
    "outputId": "46111ae5-1421-450b-8ece-d1cc359eed5a"
   },
   "outputs": [
    {
     "data": {
      "image/png": "[encoded data removed]",
      "text/plain": [
       "<Figure size 432x288 with 1 Axes>"
      ]
     },
     "metadata": {
      "needs_background": "light"
     },
     "output_type": "display_data"
    }
   ],
   "source": [
    "plt.scatter(df_final_heart_disease.colesterol_mg_dl, df_final_heart_disease.presion_en_reposo)\n",
    "plt.show()"
   ]
  },
  {
   "cell_type": "markdown",
   "metadata": {
    "id": "R336fZGc_dUW"
   },
   "source": [
    "**18) A continuacion, hacemos la division para train y test de las variables dependientes e independientes:**"
   ]
  },
  {
   "cell_type": "code",
   "execution_count": 19,
   "metadata": {
    "executionInfo": {
     "elapsed": 17,
     "status": "ok",
     "timestamp": 1656636231918,
     "user": {
      "displayName": "Nicolás Marquez",
      "userId": "08923445738556148719"
     },
     "user_tz": 180
    },
    "id": "8pmqP-kmCC9i"
   },
   "outputs": [],
   "source": [
    "X_train, X_test, y_train, y_test = train_test_split(df_final_heart_disease.colesterol_mg_dl, df_final_heart_disease.presion_en_reposo, test_size=0.30)"
   ]
  },
  {
   "cell_type": "markdown",
   "metadata": {
    "id": "v5cwA0JT_qB-"
   },
   "source": [
    "**19) Ahora entrenamos el modelo de regresion logistica:**"
   ]
  },
  {
   "cell_type": "markdown",
   "metadata": {
    "id": "x8rxTQaN_x0f"
   },
   "source": [
    "El primer paso es crear una instancia de las Regresion logistica:"
   ]
  },
  {
   "cell_type": "code",
   "execution_count": 20,
   "metadata": {
    "executionInfo": {
     "elapsed": 16,
     "status": "ok",
     "timestamp": 1656636231918,
     "user": {
      "displayName": "Nicolás Marquez",
      "userId": "08923445738556148719"
     },
     "user_tz": 180
    },
    "id": "mvRRlo73_2qH"
   },
   "outputs": [],
   "source": [
    "regresion_logistica = LogisticRegression()"
   ]
  },
  {
   "cell_type": "markdown",
   "metadata": {
    "id": "7J3E8Djt_7JX"
   },
   "source": [
    "El segundo paso es entrenar la regresión logística con los datos de entrenamiento"
   ]
  },
  {
   "cell_type": "code",
   "execution_count": 21,
   "metadata": {
    "colab": {
     "base_uri": "https://localhost:8080/"
    },
    "executionInfo": {
     "elapsed": 635,
     "status": "ok",
     "timestamp": 1656636232539,
     "user": {
      "displayName": "Nicolás Marquez",
      "userId": "08923445738556148719"
     },
     "user_tz": 180
    },
    "id": "7FfvGvkICG3P",
    "outputId": "a056ace6-3f84-4d75-ca5a-dec9bfd5f129"
   },
   "outputs": [
    {
     "name": "stderr",
     "output_type": "stream",
     "text": [
      "C:\\Users\\doloc\\anaconda3\\lib\\site-packages\\sklearn\\linear_model\\_logistic.py:444: ConvergenceWarning: lbfgs failed to converge (status=1):\n",
      "STOP: TOTAL NO. of ITERATIONS REACHED LIMIT.\n",
      "\n",
      "Increase the number of iterations (max_iter) or scale the data as shown in:\n",
      "    https://scikit-learn.org/stable/modules/preprocessing.html\n",
      "Please also refer to the documentation for alternative solver options:\n",
      "    https://scikit-learn.org/stable/modules/linear_model.html#logistic-regression\n",
      "  n_iter_i = _check_optimize_result(\n"
     ]
    },
    {
     "data": {
      "text/html": [
       "<style>#sk-container-id-3 {color: black;background-color: white;}#sk-container-id-3 pre{padding: 0;}#sk-container-id-3 div.sk-toggleable {background-color: white;}#sk-container-id-3 label.sk-toggleable__label {cursor: pointer;display: block;width: 100%;margin-bottom: 0;padding: 0.3em;box-sizing: border-box;text-align: center;}#sk-container-id-3 label.sk-toggleable__label-arrow:before {content: \"▸\";float: left;margin-right: 0.25em;color: #696969;}#sk-container-id-3 label.sk-toggleable__label-arrow:hover:before {color: black;}#sk-container-id-3 div.sk-estimator:hover label.sk-toggleable__label-arrow:before {color: black;}#sk-container-id-3 div.sk-toggleable__content {max-height: 0;max-width: 0;overflow: hidden;text-align: left;background-color: #f0f8ff;}#sk-container-id-3 div.sk-toggleable__content pre {margin: 0.2em;color: black;border-radius: 0.25em;background-color: #f0f8ff;}#sk-container-id-3 input.sk-toggleable__control:checked~div.sk-toggleable__content {max-height: 200px;max-width: 100%;overflow: auto;}#sk-container-id-3 input.sk-toggleable__control:checked~label.sk-toggleable__label-arrow:before {content: \"▾\";}#sk-container-id-3 div.sk-estimator input.sk-toggleable__control:checked~label.sk-toggleable__label {background-color: #d4ebff;}#sk-container-id-3 div.sk-label input.sk-toggleable__control:checked~label.sk-toggleable__label {background-color: #d4ebff;}#sk-container-id-3 input.sk-hidden--visually {border: 0;clip: rect(1px 1px 1px 1px);clip: rect(1px, 1px, 1px, 1px);height: 1px;margin: -1px;overflow: hidden;padding: 0;position: absolute;width: 1px;}#sk-container-id-3 div.sk-estimator {font-family: monospace;background-color: #f0f8ff;border: 1px dotted black;border-radius: 0.25em;box-sizing: border-box;margin-bottom: 0.5em;}#sk-container-id-3 div.sk-estimator:hover {background-color: #d4ebff;}#sk-container-id-3 div.sk-parallel-item::after {content: \"\";width: 100%;border-bottom: 1px solid gray;flex-grow: 1;}#sk-container-id-3 div.sk-label:hover label.sk-toggleable__label {background-color: #d4ebff;}#sk-container-id-3 div.sk-serial::before {content: \"\";position: absolute;border-left: 1px solid gray;box-sizing: border-box;top: 0;bottom: 0;left: 50%;z-index: 0;}#sk-container-id-3 div.sk-serial {display: flex;flex-direction: column;align-items: center;background-color: white;padding-right: 0.2em;padding-left: 0.2em;position: relative;}#sk-container-id-3 div.sk-item {position: relative;z-index: 1;}#sk-container-id-3 div.sk-parallel {display: flex;align-items: stretch;justify-content: center;background-color: white;position: relative;}#sk-container-id-3 div.sk-item::before, #sk-container-id-3 div.sk-parallel-item::before {content: \"\";position: absolute;border-left: 1px solid gray;box-sizing: border-box;top: 0;bottom: 0;left: 50%;z-index: -1;}#sk-container-id-3 div.sk-parallel-item {display: flex;flex-direction: column;z-index: 1;position: relative;background-color: white;}#sk-container-id-3 div.sk-parallel-item:first-child::after {align-self: flex-end;width: 50%;}#sk-container-id-3 div.sk-parallel-item:last-child::after {align-self: flex-start;width: 50%;}#sk-container-id-3 div.sk-parallel-item:only-child::after {width: 0;}#sk-container-id-3 div.sk-dashed-wrapped {border: 1px dashed gray;margin: 0 0.4em 0.5em 0.4em;box-sizing: border-box;padding-bottom: 0.4em;background-color: white;}#sk-container-id-3 div.sk-label label {font-family: monospace;font-weight: bold;display: inline-block;line-height: 1.2em;}#sk-container-id-3 div.sk-label-container {text-align: center;}#sk-container-id-3 div.sk-container {/* jupyter's `normalize.less` sets `[hidden] { display: none; }` but bootstrap.min.css set `[hidden] { display: none !important; }` so we also need the `!important` here to be able to override the default hidden behavior on the sphinx rendered scikit-learn.org. See: https://github.com/scikit-learn/scikit-learn/issues/21755 */display: inline-block !important;position: relative;}#sk-container-id-3 div.sk-text-repr-fallback {display: none;}</style><div id=\"sk-container-id-3\" class=\"sk-top-container\"><div class=\"sk-text-repr-fallback\"><pre>LogisticRegression()</pre><b>In a Jupyter environment, please rerun this cell to show the HTML representation or trust the notebook. <br />On GitHub, the HTML representation is unable to render, please try loading this page with nbviewer.org.</b></div><div class=\"sk-container\" hidden><div class=\"sk-item\"><div class=\"sk-estimator sk-toggleable\"><input class=\"sk-toggleable__control sk-hidden--visually\" id=\"sk-estimator-id-3\" type=\"checkbox\" checked><label for=\"sk-estimator-id-3\" class=\"sk-toggleable__label sk-toggleable__label-arrow\">LogisticRegression</label><div class=\"sk-toggleable__content\"><pre>LogisticRegression()</pre></div></div></div></div></div>"
      ],
      "text/plain": [
       "LogisticRegression()"
      ]
     },
     "execution_count": 21,
     "metadata": {},
     "output_type": "execute_result"
    }
   ],
   "source": [
    "regresion_logistica.fit(X_train.values.reshape(-1, 1), y_train.values.reshape(-1, 1).ravel())"
   ]
  },
  {
   "cell_type": "markdown",
   "metadata": {
    "id": "7Sd_PLuoADmJ"
   },
   "source": [
    "**20) Ahora predecimos:**"
   ]
  },
  {
   "cell_type": "code",
   "execution_count": 22,
   "metadata": {
    "executionInfo": {
     "elapsed": 10,
     "status": "ok",
     "timestamp": 1656636232540,
     "user": {
      "displayName": "Nicolás Marquez",
      "userId": "08923445738556148719"
     },
     "user_tz": 180
    },
    "id": "XUdkzGwPORqE"
   },
   "outputs": [],
   "source": [
    "y_pred = regresion_logistica.predict(X_test.values.reshape(-1, 1))"
   ]
  },
  {
   "cell_type": "markdown",
   "metadata": {
    "id": "nrk34Uq7AJLA"
   },
   "source": [
    "**21) Graficamos el modelo:**"
   ]
  },
  {
   "cell_type": "code",
   "execution_count": 23,
   "metadata": {
    "colab": {
     "base_uri": "https://localhost:8080/",
     "height": 265
    },
    "executionInfo": {
     "elapsed": 10,
     "status": "ok",
     "timestamp": 1656636232540,
     "user": {
      "displayName": "Nicolás Marquez",
      "userId": "08923445738556148719"
     },
     "user_tz": 180
    },
    "id": "b7DGabJnOTy8",
    "outputId": "344e9f75-9ff1-4b1b-e450-dceacb3440c6"
   },
   "outputs": [
    {
     "data": {
      "image/png": "[encoded data removed]",
      "text/plain": [
       "<Figure size 432x288 with 1 Axes>"
      ]
     },
     "metadata": {
      "needs_background": "light"
     },
     "output_type": "display_data"
    }
   ],
   "source": [
    "plt.scatter(X_test, y_test)\n",
    "plt.scatter(X_test, y_pred, c='red')\n",
    "plt.show()"
   ]
  },
  {
   "cell_type": "markdown",
   "metadata": {
    "id": "CjBNpGJ_AQDn"
   },
   "source": [
    "**22) Calculamos el accuracy para este modelo:**"
   ]
  },
  {
   "cell_type": "code",
   "execution_count": 24,
   "metadata": {
    "executionInfo": {
     "elapsed": 11,
     "status": "ok",
     "timestamp": 1656636232542,
     "user": {
      "displayName": "Nicolás Marquez",
      "userId": "08923445738556148719"
     },
     "user_tz": 180
    },
    "id": "PV71YskIOWY7"
   },
   "outputs": [],
   "source": [
    "accuracy = regresion_logistica.score(X_test.values.reshape(-1, 1), y_test.values.reshape(-1, 1))\n"
   ]
  },
  {
   "cell_type": "code",
   "execution_count": 25,
   "metadata": {
    "colab": {
     "base_uri": "https://localhost:8080/"
    },
    "executionInfo": {
     "elapsed": 11,
     "status": "ok",
     "timestamp": 1656636232543,
     "user": {
      "displayName": "Nicolás Marquez",
      "userId": "08923445738556148719"
     },
     "user_tz": 180
    },
    "id": "0cHHVvDSObAi",
    "outputId": "d9aefcef-171a-4974-ee5c-50cbcc1be481"
   },
   "outputs": [
    {
     "name": "stdout",
     "output_type": "stream",
     "text": [
      "Accuracy = 0.13666666666666666\n"
     ]
    }
   ],
   "source": [
    "print(f\"Accuracy = {accuracy}\")"
   ]
  }
 ],
 "metadata": {
  "colab": {
   "authorship_tag": "ABX9TyNY9o5b04kD0zsBUY61Od6F",
   "collapsed_sections": [],
   "name": "Algoritmo_clasificacion_Marquez.ipynb",
   "provenance": []
  },
  "kernelspec": {
   "display_name": "Python 3 (ipykernel)",
   "language": "python",
   "name": "python3"
  },
  "language_info": {
   "codemirror_mode": {
    "name": "ipython",
    "version": 3
   },
   "file_extension": ".py",
   "mimetype": "text/x-python",
   "name": "python",
   "nbconvert_exporter": "python",
   "pygments_lexer": "ipython3",
   "version": "3.9.7"
  }
 },
 "nbformat": 4,
 "nbformat_minor": 1
}
