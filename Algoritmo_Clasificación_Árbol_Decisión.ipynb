{
 "cells": [
  {
   "cell_type": "markdown",
   "metadata": {
    "id": "_9wrC0_iDqAL"
   },
   "source": [
    "# Consigna: \n",
    "**Desarrollar un Árbol de Decisión de Clasificación con el dataset propuesto para el proyecto final del curso.** \n"
   ]
  },
  {
   "cell_type": "markdown",
   "metadata": {
    "id": "t6d3cU-lKJ4O"
   },
   "source": [
    "**1) Importamos librerías**"
   ]
  },
  {
   "cell_type": "code",
   "execution_count": 4,
   "metadata": {
    "id": "OOfDExC_ConQ"
   },
   "outputs": [],
   "source": [
    "import pandas as pd\n",
    "import numpy as np\n",
    "\n",
    "import matplotlib.pyplot as plt\n",
    "import seaborn as sns\n",
    "\n",
    "from sklearn.datasets import data\n",
    "from sklearn import tree\n",
    "from sklearn.metrics import confusion_matrix"
   ]
  },
  {
   "cell_type": "markdown",
   "metadata": {
    "id": "iYL5Is6SKVzL"
   },
   "source": [
    "**2) Leemos el dataframe:**\\\n",
    "**-El siguiente dataframe es el resultado de la primera entrega final del proyecto ya que contiene el EDA , Get Dummies, y los datos tratados.**"
   ]
  },
  {
   "cell_type": "code",
   "execution_count": 6,
   "metadata": {
    "colab": {
     "base_uri": "https://localhost:8080/",
     "height": 505
    },
    "id": "IFIkHxNzKYW7",
    "outputId": "53681175-93e9-4723-a223-d0e59218b48d"
   },
   "outputs": [
    {
     "data": {
      "text/html": [
       "<div>\n",
       "<style scoped>\n",
       "    .dataframe tbody tr th:only-of-type {\n",
       "        vertical-align: middle;\n",
       "    }\n",
       "\n",
       "    .dataframe tbody tr th {\n",
       "        vertical-align: top;\n",
       "    }\n",
       "\n",
       "    .dataframe thead th {\n",
       "        text-align: right;\n",
       "    }\n",
       "</style>\n",
       "<table border=\"1\" class=\"dataframe\">\n",
       "  <thead>\n",
       "    <tr style=\"text-align: right;\">\n",
       "      <th></th>\n",
       "      <th>Unnamed: 0</th>\n",
       "      <th>edad</th>\n",
       "      <th>dolor_de_pecho</th>\n",
       "      <th>presion_en_reposo</th>\n",
       "      <th>colesterol_mg_dl</th>\n",
       "      <th>glucemia_en_ayunas</th>\n",
       "      <th>resultados_electrocardiograficos_en_reposo</th>\n",
       "      <th>frecuencia_cardiaca_maxima_alcanzada</th>\n",
       "      <th>depresion_st_ejercicio_segun_reposo</th>\n",
       "      <th>maxima_pendiente_st_ejercicio</th>\n",
       "      <th>vasos_principales_coloreados</th>\n",
       "      <th>talasemia</th>\n",
       "      <th>enfermo_cardiaco</th>\n",
       "      <th>sexo</th>\n",
       "      <th>angina_por_ejercicio</th>\n",
       "    </tr>\n",
       "  </thead>\n",
       "  <tbody>\n",
       "    <tr>\n",
       "      <th>0</th>\n",
       "      <td>0</td>\n",
       "      <td>52</td>\n",
       "      <td>3</td>\n",
       "      <td>125</td>\n",
       "      <td>212</td>\n",
       "      <td>0</td>\n",
       "      <td>2</td>\n",
       "      <td>168</td>\n",
       "      <td>1.0</td>\n",
       "      <td>0</td>\n",
       "      <td>2</td>\n",
       "      <td>2</td>\n",
       "      <td>0</td>\n",
       "      <td>1</td>\n",
       "      <td>1</td>\n",
       "    </tr>\n",
       "    <tr>\n",
       "      <th>1</th>\n",
       "      <td>1</td>\n",
       "      <td>53</td>\n",
       "      <td>3</td>\n",
       "      <td>140</td>\n",
       "      <td>203</td>\n",
       "      <td>1</td>\n",
       "      <td>1</td>\n",
       "      <td>155</td>\n",
       "      <td>3.1</td>\n",
       "      <td>2</td>\n",
       "      <td>0</td>\n",
       "      <td>2</td>\n",
       "      <td>0</td>\n",
       "      <td>1</td>\n",
       "      <td>0</td>\n",
       "    </tr>\n",
       "    <tr>\n",
       "      <th>2</th>\n",
       "      <td>2</td>\n",
       "      <td>70</td>\n",
       "      <td>3</td>\n",
       "      <td>145</td>\n",
       "      <td>174</td>\n",
       "      <td>0</td>\n",
       "      <td>2</td>\n",
       "      <td>125</td>\n",
       "      <td>2.6</td>\n",
       "      <td>2</td>\n",
       "      <td>0</td>\n",
       "      <td>2</td>\n",
       "      <td>0</td>\n",
       "      <td>1</td>\n",
       "      <td>0</td>\n",
       "    </tr>\n",
       "    <tr>\n",
       "      <th>3</th>\n",
       "      <td>3</td>\n",
       "      <td>61</td>\n",
       "      <td>3</td>\n",
       "      <td>148</td>\n",
       "      <td>203</td>\n",
       "      <td>0</td>\n",
       "      <td>2</td>\n",
       "      <td>161</td>\n",
       "      <td>0.0</td>\n",
       "      <td>0</td>\n",
       "      <td>1</td>\n",
       "      <td>2</td>\n",
       "      <td>0</td>\n",
       "      <td>1</td>\n",
       "      <td>1</td>\n",
       "    </tr>\n",
       "    <tr>\n",
       "      <th>4</th>\n",
       "      <td>4</td>\n",
       "      <td>62</td>\n",
       "      <td>3</td>\n",
       "      <td>138</td>\n",
       "      <td>294</td>\n",
       "      <td>1</td>\n",
       "      <td>2</td>\n",
       "      <td>106</td>\n",
       "      <td>1.9</td>\n",
       "      <td>1</td>\n",
       "      <td>3</td>\n",
       "      <td>1</td>\n",
       "      <td>0</td>\n",
       "      <td>0</td>\n",
       "      <td>1</td>\n",
       "    </tr>\n",
       "    <tr>\n",
       "      <th>...</th>\n",
       "      <td>...</td>\n",
       "      <td>...</td>\n",
       "      <td>...</td>\n",
       "      <td>...</td>\n",
       "      <td>...</td>\n",
       "      <td>...</td>\n",
       "      <td>...</td>\n",
       "      <td>...</td>\n",
       "      <td>...</td>\n",
       "      <td>...</td>\n",
       "      <td>...</td>\n",
       "      <td>...</td>\n",
       "      <td>...</td>\n",
       "      <td>...</td>\n",
       "      <td>...</td>\n",
       "    </tr>\n",
       "    <tr>\n",
       "      <th>995</th>\n",
       "      <td>1020</td>\n",
       "      <td>59</td>\n",
       "      <td>1</td>\n",
       "      <td>140</td>\n",
       "      <td>221</td>\n",
       "      <td>0</td>\n",
       "      <td>2</td>\n",
       "      <td>164</td>\n",
       "      <td>0.0</td>\n",
       "      <td>0</td>\n",
       "      <td>0</td>\n",
       "      <td>1</td>\n",
       "      <td>1</td>\n",
       "      <td>1</td>\n",
       "      <td>0</td>\n",
       "    </tr>\n",
       "    <tr>\n",
       "      <th>996</th>\n",
       "      <td>1021</td>\n",
       "      <td>60</td>\n",
       "      <td>3</td>\n",
       "      <td>125</td>\n",
       "      <td>258</td>\n",
       "      <td>0</td>\n",
       "      <td>1</td>\n",
       "      <td>141</td>\n",
       "      <td>2.8</td>\n",
       "      <td>1</td>\n",
       "      <td>1</td>\n",
       "      <td>2</td>\n",
       "      <td>0</td>\n",
       "      <td>1</td>\n",
       "      <td>0</td>\n",
       "    </tr>\n",
       "    <tr>\n",
       "      <th>997</th>\n",
       "      <td>1022</td>\n",
       "      <td>47</td>\n",
       "      <td>3</td>\n",
       "      <td>110</td>\n",
       "      <td>275</td>\n",
       "      <td>0</td>\n",
       "      <td>1</td>\n",
       "      <td>118</td>\n",
       "      <td>1.0</td>\n",
       "      <td>1</td>\n",
       "      <td>1</td>\n",
       "      <td>1</td>\n",
       "      <td>0</td>\n",
       "      <td>1</td>\n",
       "      <td>0</td>\n",
       "    </tr>\n",
       "    <tr>\n",
       "      <th>998</th>\n",
       "      <td>1023</td>\n",
       "      <td>50</td>\n",
       "      <td>3</td>\n",
       "      <td>110</td>\n",
       "      <td>254</td>\n",
       "      <td>0</td>\n",
       "      <td>1</td>\n",
       "      <td>159</td>\n",
       "      <td>0.0</td>\n",
       "      <td>0</td>\n",
       "      <td>0</td>\n",
       "      <td>1</td>\n",
       "      <td>1</td>\n",
       "      <td>0</td>\n",
       "      <td>1</td>\n",
       "    </tr>\n",
       "    <tr>\n",
       "      <th>999</th>\n",
       "      <td>1024</td>\n",
       "      <td>54</td>\n",
       "      <td>3</td>\n",
       "      <td>120</td>\n",
       "      <td>188</td>\n",
       "      <td>0</td>\n",
       "      <td>2</td>\n",
       "      <td>113</td>\n",
       "      <td>1.4</td>\n",
       "      <td>1</td>\n",
       "      <td>1</td>\n",
       "      <td>2</td>\n",
       "      <td>0</td>\n",
       "      <td>1</td>\n",
       "      <td>1</td>\n",
       "    </tr>\n",
       "  </tbody>\n",
       "</table>\n",
       "<p>1000 rows × 15 columns</p>\n",
       "</div>"
      ],
      "text/plain": [
       "     Unnamed: 0  edad  dolor_de_pecho  presion_en_reposo  colesterol_mg_dl  \\\n",
       "0             0    52               3                125               212   \n",
       "1             1    53               3                140               203   \n",
       "2             2    70               3                145               174   \n",
       "3             3    61               3                148               203   \n",
       "4             4    62               3                138               294   \n",
       "..          ...   ...             ...                ...               ...   \n",
       "995        1020    59               1                140               221   \n",
       "996        1021    60               3                125               258   \n",
       "997        1022    47               3                110               275   \n",
       "998        1023    50               3                110               254   \n",
       "999        1024    54               3                120               188   \n",
       "\n",
       "     glucemia_en_ayunas  resultados_electrocardiograficos_en_reposo  \\\n",
       "0                     0                                           2   \n",
       "1                     1                                           1   \n",
       "2                     0                                           2   \n",
       "3                     0                                           2   \n",
       "4                     1                                           2   \n",
       "..                  ...                                         ...   \n",
       "995                   0                                           2   \n",
       "996                   0                                           1   \n",
       "997                   0                                           1   \n",
       "998                   0                                           1   \n",
       "999                   0                                           2   \n",
       "\n",
       "     frecuencia_cardiaca_maxima_alcanzada  \\\n",
       "0                                     168   \n",
       "1                                     155   \n",
       "2                                     125   \n",
       "3                                     161   \n",
       "4                                     106   \n",
       "..                                    ...   \n",
       "995                                   164   \n",
       "996                                   141   \n",
       "997                                   118   \n",
       "998                                   159   \n",
       "999                                   113   \n",
       "\n",
       "     depresion_st_ejercicio_segun_reposo  maxima_pendiente_st_ejercicio  \\\n",
       "0                                    1.0                              0   \n",
       "1                                    3.1                              2   \n",
       "2                                    2.6                              2   \n",
       "3                                    0.0                              0   \n",
       "4                                    1.9                              1   \n",
       "..                                   ...                            ...   \n",
       "995                                  0.0                              0   \n",
       "996                                  2.8                              1   \n",
       "997                                  1.0                              1   \n",
       "998                                  0.0                              0   \n",
       "999                                  1.4                              1   \n",
       "\n",
       "     vasos_principales_coloreados  talasemia  enfermo_cardiaco  sexo  \\\n",
       "0                               2          2                 0     1   \n",
       "1                               0          2                 0     1   \n",
       "2                               0          2                 0     1   \n",
       "3                               1          2                 0     1   \n",
       "4                               3          1                 0     0   \n",
       "..                            ...        ...               ...   ...   \n",
       "995                             0          1                 1     1   \n",
       "996                             1          2                 0     1   \n",
       "997                             1          1                 0     1   \n",
       "998                             0          1                 1     0   \n",
       "999                             1          2                 0     1   \n",
       "\n",
       "     angina_por_ejercicio  \n",
       "0                       1  \n",
       "1                       0  \n",
       "2                       0  \n",
       "3                       1  \n",
       "4                       1  \n",
       "..                    ...  \n",
       "995                     0  \n",
       "996                     0  \n",
       "997                     0  \n",
       "998                     1  \n",
       "999                     1  \n",
       "\n",
       "[1000 rows x 15 columns]"
      ]
     },
     "execution_count": 6,
     "metadata": {},
     "output_type": "execute_result"
    }
   ],
   "source": [
    "data_heart_final = pd.read_csv(\"data_heart_final.csv\")\n",
    "data_heart_final"
   ]
  },
  {
   "cell_type": "markdown",
   "metadata": {
    "id": "hy2opyMONEHu"
   },
   "source": [
    "**3) Separamos del dataframe las variables X e Y:**"
   ]
  },
  {
   "cell_type": "code",
   "execution_count": 7,
   "metadata": {
    "id": "5hsCWT-INNqU"
   },
   "outputs": [],
   "source": [
    "X = data_heart_final.drop(\"enfermo_cardiaco\", axis=1)\n",
    "y = data_heart_final.enfermo_cardiaco"
   ]
  },
  {
   "cell_type": "markdown",
   "metadata": {
    "id": "J7n2cvGjNugi"
   },
   "source": [
    "**4)Importamos la libreria para separar en train y test**\n"
   ]
  },
  {
   "cell_type": "code",
   "execution_count": 8,
   "metadata": {
    "id": "FFV4h2JuNxh0"
   },
   "outputs": [],
   "source": [
    "from sklearn.model_selection import train_test_split"
   ]
  },
  {
   "cell_type": "markdown",
   "metadata": {
    "id": "ucXBzM9gNy-9"
   },
   "source": [
    "**5) Me quedo con 30% del dataframe para test y 70% para train**\n"
   ]
  },
  {
   "cell_type": "code",
   "execution_count": 9,
   "metadata": {
    "id": "SFZSX8jhN3tD"
   },
   "outputs": [],
   "source": [
    "X_train, X_test, y_train, y_test = train_test_split(X, y, test_size=0.30, random_state=42) "
   ]
  },
  {
   "cell_type": "markdown",
   "metadata": {
    "id": "HG155lrsN_T5"
   },
   "source": [
    "**6) Importamos de la libreria el modelo:**"
   ]
  },
  {
   "cell_type": "code",
   "execution_count": 10,
   "metadata": {
    "id": "9Tjj_eLmOJvV"
   },
   "outputs": [],
   "source": [
    "from sklearn.tree import DecisionTreeClassifier"
   ]
  },
  {
   "cell_type": "markdown",
   "metadata": {
    "id": "MKY9IAjcOMWL"
   },
   "source": [
    "**7) Creamos el modelo arbol de decisión:**"
   ]
  },
  {
   "cell_type": "code",
   "execution_count": 11,
   "metadata": {
    "id": "2O2DVqrnOOhW"
   },
   "outputs": [],
   "source": [
    "arbol_de_decision = DecisionTreeClassifier(max_depth=2, random_state = 42)"
   ]
  },
  {
   "cell_type": "markdown",
   "metadata": {
    "id": "IE4VNMudOZ0D"
   },
   "source": [
    "**8)Entrenamos el modelo**"
   ]
  },
  {
   "cell_type": "code",
   "execution_count": 12,
   "metadata": {
    "colab": {
     "base_uri": "https://localhost:8080/"
    },
    "id": "PH1YhhMdOi49",
    "outputId": "f848e022-8d76-4b80-e640-0da1d85b83f7"
   },
   "outputs": [
    {
     "data": {
      "text/plain": [
       "DecisionTreeClassifier(max_depth=2, random_state=42)"
      ]
     },
     "execution_count": 12,
     "metadata": {},
     "output_type": "execute_result"
    }
   ],
   "source": [
    "arbol_de_decision.fit(X_train,y_train)"
   ]
  },
  {
   "cell_type": "markdown",
   "metadata": {
    "id": "avpZ569pOm8b"
   },
   "source": [
    "**9) Predecimos en Train y Test:**\n"
   ]
  },
  {
   "cell_type": "code",
   "execution_count": 13,
   "metadata": {
    "id": "0PXBPJtaO3X0"
   },
   "outputs": [],
   "source": [
    "y_train_pred = arbol_de_decision.predict(X_train)\n"
   ]
  },
  {
   "cell_type": "code",
   "execution_count": 14,
   "metadata": {
    "id": "Vj4OsffTO6Hu"
   },
   "outputs": [],
   "source": [
    "y_test_pred = arbol_de_decision.predict(X_test)"
   ]
  },
  {
   "cell_type": "markdown",
   "metadata": {
    "id": "vsD1Xs4cO7j0"
   },
   "source": [
    "**10) Ahora ya podemos hacer el gráfico del arbol de decisión:**"
   ]
  },
  {
   "cell_type": "code",
   "execution_count": 15,
   "metadata": {
    "colab": {
     "base_uri": "https://localhost:8080/",
     "height": 615
    },
    "id": "UZTnSmXSPipO",
    "outputId": "7ae7d425-64f4-4177-c1f5-479fdc4dd525"
   },
   "outputs": [
    {
     "data": {
      "image/png": "[encoded data removed]",
      "text/plain": [
       "<Figure size 1152x720 with 1 Axes>"
      ]
     },
     "metadata": {
      "needs_background": "light"
     },
     "output_type": "display_data"
    }
   ],
   "source": [
    "plt.figure(figsize=(16,10)) \n",
    "tree.plot_tree(arbol_de_decision.fit(X_train,y_train))\n",
    "plt.title(label=\"Árbol de decisión\",\n",
    "           fontsize=40,\n",
    "           color=\"green\")\n",
    "plt.show()"
   ]
  },
  {
   "cell_type": "markdown",
   "metadata": {
    "id": "oKIqjzXOK3b9"
   },
   "source": [
    "**11) A continuación, calculamos la métrica Accuracy:**\\\n",
    "**-Primero para el Train y luego para el Test:**"
   ]
  },
  {
   "cell_type": "code",
   "execution_count": 16,
   "metadata": {
    "colab": {
     "base_uri": "https://localhost:8080/"
    },
    "id": "nFD2QO9NLRSe",
    "outputId": "c120d410-5856-4e7f-be3c-9fc6c767fc6a"
   },
   "outputs": [
    {
     "name": "stdout",
     "output_type": "stream",
     "text": [
      "El % de aciertos sobre el set de entrenamiento: 0.79%\n",
      "El % de aciertos sobre el set de evaluación:0.77%\n"
     ]
    }
   ],
   "source": [
    "from sklearn.metrics import accuracy_score\n",
    "\n",
    "train_accuracy = accuracy_score(y_train, y_train_pred)\n",
    "\n",
    "test_accuracy = accuracy_score(y_test, y_test_pred)\n",
    "\n",
    "print(f'El % de aciertos sobre el set de entrenamiento: {round(train_accuracy,2)}%')\n",
    "print(f'El % de aciertos sobre el set de evaluación:{round(test_accuracy,2)}%')"
   ]
  },
  {
   "cell_type": "markdown",
   "metadata": {
    "id": "Y_tRFfLmL3mF"
   },
   "source": [
    "**12) Ahora, visualizaremos el gráfico de Importancia de las variables en el modelo:**"
   ]
  },
  {
   "cell_type": "code",
   "execution_count": 17,
   "metadata": {
    "colab": {
     "base_uri": "https://localhost:8080/",
     "height": 952
    },
    "id": "KwU7Zoh1L8st",
    "outputId": "3df12dd0-a928-4697-840a-60ba9d457bfa"
   },
   "outputs": [
    {
     "name": "stderr",
     "output_type": "stream",
     "text": [
      "C:\\Users\\doloc\\anaconda3\\lib\\site-packages\\seaborn\\_decorators.py:36: FutureWarning: Pass the following variables as keyword args: x, y. From version 0.12, the only valid positional argument will be `data`, and passing other arguments without an explicit keyword will result in an error or misinterpretation.\n",
      "  warnings.warn(\n"
     ]
    },
    {
     "data": {
      "image/png": "[encoded data removed]",
      "text/plain": [
       "<Figure size 1080x1080 with 1 Axes>"
      ]
     },
     "metadata": {
      "needs_background": "light"
     },
     "output_type": "display_data"
    }
   ],
   "source": [
    "import matplotlib.pyplot as plt\n",
    "import seaborn as sns\n",
    "\n",
    "def importances_clear(columnas,importances):\n",
    "    col = list()\n",
    "    imp = list()\n",
    "    for indice in range(len(importances)):\n",
    "        if importances[indice] != 0.0:\n",
    "            col.append(columnas[indice])\n",
    "            imp.append(importances[indice]*100)\n",
    "    return col, imp\n",
    "    \n",
    "plt.figure(figsize=(15,15))\n",
    "importances = arbol_de_decision.feature_importances_\n",
    "columns = X.columns\n",
    "col, imp = importances_clear(columns,importances)\n",
    "sns.barplot(col,imp)\n",
    "plt.title('Importancia de cada Feature')\n",
    "plt.ylabel('% de importancia')\n",
    "plt.show()"
   ]
  },
  {
   "cell_type": "markdown",
   "metadata": {
    "id": "iU3oY0u8rkDM"
   },
   "source": [
    "**13) Por último creamos la matriz de confusión y la visualizamos:**\n"
   ]
  },
  {
   "cell_type": "code",
   "execution_count": 18,
   "metadata": {
    "colab": {
     "base_uri": "https://localhost:8080/"
    },
    "id": "ee2X1p0Crn0V",
    "outputId": "9532e296-4eef-4580-8611-dedd1b79252d"
   },
   "outputs": [
    {
     "name": "stdout",
     "output_type": "stream",
     "text": [
      "Matriz de Confusión:\n",
      "[[122  16]\n",
      " [ 52 110]]\n"
     ]
    }
   ],
   "source": [
    "matriz = confusion_matrix(y_test, y_test_pred)\n",
    "print('Matriz de Confusión:')\n",
    "print(matriz)"
   ]
  }
 ],
 "metadata": {
  "colab": {
   "collapsed_sections": [],
   "name": "Algoritmo_clasificación_Marquez.ipynb",
   "provenance": []
  },
  "kernelspec": {
   "display_name": "Python 3 (ipykernel)",
   "language": "python",
   "name": "python3"
  },
  "language_info": {
   "codemirror_mode": {
    "name": "ipython",
    "version": 3
   },
   "file_extension": ".py",
   "mimetype": "text/x-python",
   "name": "python",
   "nbconvert_exporter": "python",
   "pygments_lexer": "ipython3",
   "version": "3.9.7"
  }
 },
 "nbformat": 4,
 "nbformat_minor": 1
}
